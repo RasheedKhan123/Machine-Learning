{
  "nbformat": 4,
  "nbformat_minor": 0,
  "metadata": {
    "colab": {
      "provenance": [],
      "include_colab_link": true
    },
    "kernelspec": {
      "name": "python3",
      "display_name": "Python 3"
    },
    "language_info": {
      "name": "python"
    }
  },
  "cells": [
    {
      "cell_type": "markdown",
      "metadata": {
        "id": "view-in-github",
        "colab_type": "text"
      },
      "source": [
        "<a href=\"https://colab.research.google.com/github/RasheedKhan123/Machine-Learning/blob/main/LinearRegressionProject.ipynb\" target=\"_parent\"><img src=\"https://colab.research.google.com/assets/colab-badge.svg\" alt=\"Open In Colab\"/></a>"
      ]
    },
    {
      "cell_type": "code",
      "execution_count": null,
      "metadata": {
        "id": "3FeMQyqiKWUJ"
      },
      "outputs": [],
      "source": [
        "# Importing numpy library\n",
        "import numpy as np\n",
        "\n",
        "# Defining Linear Regression class\n",
        "class LinearRegression:\n",
        "    def __init__(self, X, y):\n",
        "        # Initialize method to set the independent and dependent variables\n",
        "        self.X = X\n",
        "        self.y = y\n",
        "        self.coefficients = None\n",
        "\n",
        "    def dimensionality(self, x):\n",
        "        # Method to get the shape of the input matrix/array\n",
        "        return x.shape\n",
        "\n",
        "    def if_matrix_invertible(self, x):\n",
        "        # Method to check if a matrix is invertible\n",
        "        try:\n",
        "            determinant = np.linalg.det(x)\n",
        "            return determinant != 0\n",
        "        except np.linalg.LinAlgError:\n",
        "            return False\n",
        "\n",
        "    def scale(self, x):\n",
        "        # Method to scale the input data using Min-Max scaling\n",
        "        self.x = x\n",
        "        return ((x - x.min()) / (x.max() - x.min()))\n",
        "\n",
        "    def train_test_split(self, X, y, train_ratio):\n",
        "        # Method to split the data into training and testing sets based on the provided ratio\n",
        "        self.X = X\n",
        "        self.y = y\n",
        "        order = np.array(range(X.shape[0]))\n",
        "        np.random.shuffle(order)\n",
        "        X_shuffled = X[order, :]\n",
        "        y_shuffled = y[order]\n",
        "        train_size = int(X.shape[0] * train_ratio)\n",
        "        X_train, X_test = X[order, :][:train_size+1, :].copy(), X[order, :][train_size+1:, :].copy()\n",
        "        y_train, y_test = y[order][:train_size+1].copy(), y[order][train_size+1:].copy()\n",
        "        return X_train, y_train, X_test, y_test\n",
        "\n",
        "    def compute_coeff(self, X, y):\n",
        "        # Method to compute the coefficients of the linear regression model\n",
        "        self.X = X\n",
        "        ones = np.ones([X.shape[0], 1])  # Creating a column of ones for the bias term\n",
        "        X_new = np.hstack([ones, X])  # Augmenting the data with the ones column\n",
        "        # Calculating the coefficients using the normal equation\n",
        "        return np.matmul(np.linalg.inv(np.matmul(X_new.T, X_new)), np.matmul(X_new.T, y))\n",
        "\n",
        "    def compute_loss(self, y, y_pred):\n",
        "        # Method to compute the Mean Squared Error (MSE) loss\n",
        "        return np.dot(y - y_pred, y - y_pred) / len(y)\n"
      ]
    },
    {
      "cell_type": "code",
      "source": [
        "def main():\n",
        "    # Import necessary module from scikit-learn\n",
        "    from sklearn.datasets import fetch_california_housing\n",
        "\n",
        "    # Fetch the California housing dataset\n",
        "    X, y = fetch_california_housing(return_X_y=True)\n",
        "\n",
        "    # Initialize the Linear Regression model with the loaded data\n",
        "    lg = LinearRegression(X, y)\n",
        "\n",
        "    # Print the dimensions of the loaded data\n",
        "    print(\"DIMENSIONALITY:\", lg.dimensionality(x=X))\n",
        "\n",
        "    # Check and print whether the matrix is invertible\n",
        "    is_invertible = lg.if_matrix_invertible(X)\n",
        "    print(\"\\nIS INVERTIBLE:\", is_invertible)\n",
        "\n",
        "    # Scale the data and print the first row of the scaled data\n",
        "    print(\"\\nFIRST ROW AFTER SCALED:\")\n",
        "    print(lg.scale(x=X)[:1])\n",
        "\n",
        "    # Split the data into training and testing sets\n",
        "    X_train, y_train, X_test, y_test = lg.train_test_split(X, y, train_ratio=0.8)\n",
        "\n",
        "    # Compute the coefficients using the training data\n",
        "    beta = lg.compute_coeff(X=X, y=y)\n",
        "\n",
        "    # Print the intercept (bias) of the regression model\n",
        "    intercept = beta[0]\n",
        "    print(\"\\nINTERCEPT:\", beta[0])\n",
        "\n",
        "    # Add a bias column (column of ones) to the training data\n",
        "    X_train_with_bias = np.column_stack((np.ones(X_train.shape[0]), X_train))\n",
        "    print(\"\\nX_train_with_bias:\", X_train_with_bias.shape)\n",
        "\n",
        "    # Predict the training target values using the training data and the computed coefficients\n",
        "    y_pred = np.dot(X_train_with_bias, beta)\n",
        "    print(y_pred.shape)\n",
        "\n",
        "    # Compute and print the Mean Squared Error (MSE) on the training data\n",
        "    mse = lg.compute_loss(y_train, y_pred)\n",
        "    print(\"\\nTraining MSE(project):\", mse)\n",
        "\n",
        "    # Add a bias column (column of ones) to the testing data\n",
        "    X_test_with_bias = np.column_stack((np.ones(X_test.shape[0]), X_test))\n",
        "    print(\"\\nX_test_with_bias:\", X_test_with_bias.shape)\n",
        "\n",
        "    # Predict the testing target values using the testing data and the computed coefficients\n",
        "    y_test_pred = np.dot(X_test_with_bias, beta)\n",
        "    print(\"y_test_pred shape:\", y_test_pred.shape)\n",
        "\n",
        "    # Compute and print the Mean Squared Error (MSE) on the testing data\n",
        "    mse_test = lg.compute_loss(y_test, y_test_pred)\n",
        "    print(\"\\nTesting MSE(project):\", mse_test)\n",
        "\n",
        "\n",
        "# If the script is being run as the main module, execute the main function\n",
        "if __name__ == \"__main__\":\n",
        "    main()\n"
      ],
      "metadata": {
        "colab": {
          "base_uri": "https://localhost:8080/"
        },
        "id": "Mce-kKfQwawr",
        "outputId": "a0556a06-d7f6-4789-f49e-10bc1a45ee1d"
      },
      "execution_count": null,
      "outputs": [
        {
          "output_type": "stream",
          "name": "stdout",
          "text": [
            "DIMENSIONALITY: (20640, 8)\n",
            "\n",
            "IS INVERTIBLE: False\n",
            "\n",
            "FIRST ROW AFTER SCALED:\n",
            "[[3.70535394e-03 4.61789599e-03 3.66790044e-03 3.50144065e-03\n",
            "  1.24656660e-02 3.54421927e-03 4.53076061e-03 5.92073752e-05]]\n",
            "\n",
            "INTERCEPT: -36.941920206336334\n",
            "\n",
            "X_train_with_bias: (16513, 9)\n",
            "(16513,)\n",
            "\n",
            "Training MSE(project): 0.5279364171000122\n",
            "\n",
            "X_test_with_bias: (4127, 9)\n",
            "y_test_pred shape: (4127,)\n",
            "\n",
            "Testing MSE(project): 0.5098548823062259\n"
          ]
        }
      ]
    },
    {
      "cell_type": "code",
      "source": [
        "# Importing the required module from scikit-learn library\n",
        "from sklearn.datasets import fetch_california_housing\n",
        "\n",
        "# Fetching the California housing dataset\n",
        "# This dataset contains housing data for California districts\n",
        "# X contains the features (e.g., median income, housing median age)\n",
        "# y contains the target variable, i.e., the median house value for each district\n",
        "X, y = fetch_california_housing(return_X_y=True)\n"
      ],
      "metadata": {
        "id": "H8ir3cWy2rwl"
      },
      "execution_count": null,
      "outputs": []
    },
    {
      "cell_type": "code",
      "source": [
        "# Importing the Linear Regression class from the scikit-learn library\n",
        "from sklearn.linear_model import LinearRegression\n",
        "\n",
        "# Instantiating the Linear Regression model\n",
        "model = LinearRegression()\n",
        "\n",
        "# Fitting (or training) the model with the data (X) and target values (y)\n",
        "# This step will compute the coefficients of the linear regression equation based on the provided dataset\n",
        "model.fit(X, y)\n"
      ],
      "metadata": {
        "id": "irA71bya0ucN",
        "colab": {
          "base_uri": "https://localhost:8080/",
          "height": 74
        },
        "outputId": "3439a57e-8ae3-47e1-aacb-5d938398757e"
      },
      "execution_count": null,
      "outputs": [
        {
          "output_type": "execute_result",
          "data": {
            "text/plain": [
              "LinearRegression()"
            ],
            "text/html": [
              "<style>#sk-container-id-1 {color: black;background-color: white;}#sk-container-id-1 pre{padding: 0;}#sk-container-id-1 div.sk-toggleable {background-color: white;}#sk-container-id-1 label.sk-toggleable__label {cursor: pointer;display: block;width: 100%;margin-bottom: 0;padding: 0.3em;box-sizing: border-box;text-align: center;}#sk-container-id-1 label.sk-toggleable__label-arrow:before {content: \"▸\";float: left;margin-right: 0.25em;color: #696969;}#sk-container-id-1 label.sk-toggleable__label-arrow:hover:before {color: black;}#sk-container-id-1 div.sk-estimator:hover label.sk-toggleable__label-arrow:before {color: black;}#sk-container-id-1 div.sk-toggleable__content {max-height: 0;max-width: 0;overflow: hidden;text-align: left;background-color: #f0f8ff;}#sk-container-id-1 div.sk-toggleable__content pre {margin: 0.2em;color: black;border-radius: 0.25em;background-color: #f0f8ff;}#sk-container-id-1 input.sk-toggleable__control:checked~div.sk-toggleable__content {max-height: 200px;max-width: 100%;overflow: auto;}#sk-container-id-1 input.sk-toggleable__control:checked~label.sk-toggleable__label-arrow:before {content: \"▾\";}#sk-container-id-1 div.sk-estimator input.sk-toggleable__control:checked~label.sk-toggleable__label {background-color: #d4ebff;}#sk-container-id-1 div.sk-label input.sk-toggleable__control:checked~label.sk-toggleable__label {background-color: #d4ebff;}#sk-container-id-1 input.sk-hidden--visually {border: 0;clip: rect(1px 1px 1px 1px);clip: rect(1px, 1px, 1px, 1px);height: 1px;margin: -1px;overflow: hidden;padding: 0;position: absolute;width: 1px;}#sk-container-id-1 div.sk-estimator {font-family: monospace;background-color: #f0f8ff;border: 1px dotted black;border-radius: 0.25em;box-sizing: border-box;margin-bottom: 0.5em;}#sk-container-id-1 div.sk-estimator:hover {background-color: #d4ebff;}#sk-container-id-1 div.sk-parallel-item::after {content: \"\";width: 100%;border-bottom: 1px solid gray;flex-grow: 1;}#sk-container-id-1 div.sk-label:hover label.sk-toggleable__label {background-color: #d4ebff;}#sk-container-id-1 div.sk-serial::before {content: \"\";position: absolute;border-left: 1px solid gray;box-sizing: border-box;top: 0;bottom: 0;left: 50%;z-index: 0;}#sk-container-id-1 div.sk-serial {display: flex;flex-direction: column;align-items: center;background-color: white;padding-right: 0.2em;padding-left: 0.2em;position: relative;}#sk-container-id-1 div.sk-item {position: relative;z-index: 1;}#sk-container-id-1 div.sk-parallel {display: flex;align-items: stretch;justify-content: center;background-color: white;position: relative;}#sk-container-id-1 div.sk-item::before, #sk-container-id-1 div.sk-parallel-item::before {content: \"\";position: absolute;border-left: 1px solid gray;box-sizing: border-box;top: 0;bottom: 0;left: 50%;z-index: -1;}#sk-container-id-1 div.sk-parallel-item {display: flex;flex-direction: column;z-index: 1;position: relative;background-color: white;}#sk-container-id-1 div.sk-parallel-item:first-child::after {align-self: flex-end;width: 50%;}#sk-container-id-1 div.sk-parallel-item:last-child::after {align-self: flex-start;width: 50%;}#sk-container-id-1 div.sk-parallel-item:only-child::after {width: 0;}#sk-container-id-1 div.sk-dashed-wrapped {border: 1px dashed gray;margin: 0 0.4em 0.5em 0.4em;box-sizing: border-box;padding-bottom: 0.4em;background-color: white;}#sk-container-id-1 div.sk-label label {font-family: monospace;font-weight: bold;display: inline-block;line-height: 1.2em;}#sk-container-id-1 div.sk-label-container {text-align: center;}#sk-container-id-1 div.sk-container {/* jupyter's `normalize.less` sets `[hidden] { display: none; }` but bootstrap.min.css set `[hidden] { display: none !important; }` so we also need the `!important` here to be able to override the default hidden behavior on the sphinx rendered scikit-learn.org. See: https://github.com/scikit-learn/scikit-learn/issues/21755 */display: inline-block !important;position: relative;}#sk-container-id-1 div.sk-text-repr-fallback {display: none;}</style><div id=\"sk-container-id-1\" class=\"sk-top-container\"><div class=\"sk-text-repr-fallback\"><pre>LinearRegression()</pre><b>In a Jupyter environment, please rerun this cell to show the HTML representation or trust the notebook. <br />On GitHub, the HTML representation is unable to render, please try loading this page with nbviewer.org.</b></div><div class=\"sk-container\" hidden><div class=\"sk-item\"><div class=\"sk-estimator sk-toggleable\"><input class=\"sk-toggleable__control sk-hidden--visually\" id=\"sk-estimator-id-1\" type=\"checkbox\" checked><label for=\"sk-estimator-id-1\" class=\"sk-toggleable__label sk-toggleable__label-arrow\">LinearRegression</label><div class=\"sk-toggleable__content\"><pre>LinearRegression()</pre></div></div></div></div></div>"
            ]
          },
          "metadata": {},
          "execution_count": 4
        }
      ]
    },
    {
      "cell_type": "code",
      "source": [
        "# Retrieve and print the intercept (or bias term) of the trained Linear Regression model.\n",
        "# The intercept represents the predicted output when all input features are set to zero.\n",
        "print(model.intercept_)\n"
      ],
      "metadata": {
        "id": "9a4oEdEk01Qa",
        "colab": {
          "base_uri": "https://localhost:8080/"
        },
        "outputId": "3b342b5d-450c-468a-caeb-08f022c67795"
      },
      "execution_count": null,
      "outputs": [
        {
          "output_type": "stream",
          "name": "stdout",
          "text": [
            "-36.94192020718441\n"
          ]
        }
      ]
    },
    {
      "cell_type": "code",
      "source": [
        "# Importing necessary modules from scikit-learn library\n",
        "from sklearn.metrics import mean_squared_error\n",
        "from sklearn.model_selection import train_test_split\n",
        "\n",
        "# Split the dataset into 80% training and 20% testing sets\n",
        "# This helps to evaluate the performance of the model on unseen data\n",
        "X_train, X_test, y_train, y_test = train_test_split(X, y, test_size=0.2, random_state=42)\n",
        "\n",
        "# Initializing the Linear Regression model\n",
        "model = LinearRegression()\n",
        "\n",
        "# Training the model on the training data\n",
        "model.fit(X_train, y_train)\n",
        "\n",
        "# Retrieving the intercept (bias term) of the trained model\n",
        "# It represents the model's output when all features are zero\n",
        "intercept = model.intercept_\n",
        "print(\"Intercept (Bias):\", intercept)\n",
        "\n",
        "# Using the trained model to make predictions on the training data\n",
        "y_train_pred = model.predict(X_train)\n",
        "\n",
        "# Computing the Mean Squared Error for training data\n",
        "# This metric indicates the average squared difference between actual and predicted values\n",
        "mse_train = mean_squared_error(y_train, y_train_pred)\n",
        "print(\"\\nTraining Mean Squared Error(using predefined function):\", mse_train)\n",
        "\n",
        "# Using the trained model to make predictions on the testing data\n",
        "y_test_pred = model.predict(X_test)\n",
        "\n",
        "# Computing the Mean Squared Error for testing data\n",
        "# This will give insight into how well the model performs on unseen data\n",
        "mse_test = mean_squared_error(y_test, y_test_pred)\n",
        "print(\"\\nTesting Mean Squared Error(using predefined function):\", mse_test)\n"
      ],
      "metadata": {
        "id": "kSRSsZpU1sif",
        "colab": {
          "base_uri": "https://localhost:8080/"
        },
        "outputId": "09b1ae71-6f5d-4178-cca0-2a8197004a6c"
      },
      "execution_count": null,
      "outputs": [
        {
          "output_type": "stream",
          "name": "stdout",
          "text": [
            "Intercept (Bias): -37.02327770606391\n",
            "\n",
            "Training Mean Squared Error(using predefined function): 0.5179331255246699\n",
            "\n",
            "Testing Mean Squared Error(using predefined function): 0.5558915986952422\n"
          ]
        }
      ]
    },
    {
      "cell_type": "code",
      "source": [],
      "metadata": {
        "id": "iAKPoUdWWLQV"
      },
      "execution_count": null,
      "outputs": []
    }
  ]
}